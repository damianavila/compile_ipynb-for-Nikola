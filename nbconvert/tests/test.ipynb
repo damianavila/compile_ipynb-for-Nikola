{
 "metadata": {
  "name": "test"
 },
 "nbformat": 3,
 "worksheets": [
  {
   "cells": [
    {
     "cell_type": "heading",
     "level": 1,
     "source": [
      "H1"
     ]
    },
    {
     "cell_type": "heading",
     "level": 2,
     "source": [
      "H2"
     ]
    },
    {
     "cell_type": "heading",
     "level": 3,
     "source": [
      "H3"
     ]
    },
    {
     "cell_type": "heading",
     "level": 4,
     "source": [
      "H4"
     ]
    },
    {
     "cell_type": "heading",
     "level": 5,
     "source": [
      "H5"
     ]
    },
    {
     "cell_type": "heading",
     "level": 6,
     "source": [
      "H6"
     ]
    },
    {
     "cell_type": "markdown",
     "source": [
      "A bit of text, with *important things*:",
      "",
      "* and",
      "* more that **are boldface**, as well as `verbatim`.",
      "",
      "Using markdown hyperlinks for [ipython](http://ipython.org)."
     ]
    },
    {
     "cell_type": "code",
     "collapsed": false,
     "input": [
      "f = figure()",
      "plot([1,2,3])",
      "display(f)"
     ],
     "language": "python",
     "outputs": [
      {
       "output_type": "display_data",
       "png": "[encoded data removed]",
       "text": [
        "<matplotlib.figure.Figure at 0x981bccc>"
       ]
      },
      {
       "output_type": "display_data",
       "png": "[encoded data removed]"
      }
     ],
     "prompt_number": 1
    },
    {
     "cell_type": "code",
     "collapsed": true,
     "input": [
      "# multiline input",
      "x = 1",
      "y = 2"
     ],
     "language": "python",
     "outputs": [],
     "prompt_number": 2
    },
    {
     "cell_type": "code",
     "collapsed": false,
     "input": [
      "1+2"
     ],
     "language": "python",
     "outputs": [
      {
       "output_type": "pyout",
       "prompt_number": 3,
       "text": [
        "3"
       ]
      }
     ],
     "prompt_number": 3
    },
    {
     "cell_type": "code",
     "collapsed": false,
     "input": [
      "print 'hello world'"
     ],
     "language": "python",
     "outputs": [
      {
       "output_type": "stream",
       "stream": "stdout",
       "text": [
        "hello world",
        ""
       ]
      }
     ],
     "prompt_number": 4
    },
    {
     "cell_type": "markdown",
     "source": [
      "$e^{i\\pi} + 1 = 0$"
     ]
    },
    {
     "cell_type": "raw",
     "source": [
      "plain text"
     ]
    },
    {
     "cell_type": "code",
     "collapsed": false,
     "input": [
      "import sys",
      "m = 'A message'",
      "print m, 'to stdout'",
      "print >> sys.stderr, m, 'to stderr'",
      "m"
     ],
     "language": "python",
     "outputs": [
      {
       "output_type": "stream",
       "stream": "stdout",
       "text": [
        "A message to stdout",
        ""
       ]
      },
      {
       "output_type": "stream",
       "stream": "stderr",
       "text": [
        "A message to stderr",
        ""
       ]
      },
      {
       "output_type": "pyout",
       "prompt_number": 5,
       "text": [
        "'A message'"
       ]
      }
     ],
     "prompt_number": 5
    },
    {
     "cell_type": "code",
     "collapsed": false,
     "input": [
      "# a traceback",
      "1/0"
     ],
     "language": "python",
     "outputs": [
      {
       "ename": "ZeroDivisionError",
       "evalue": "integer division or modulo by zero",
       "output_type": "pyerr",
       "traceback": [
        "\u001b[1;31m---------------------------------------------------------------------------\u001b[0m\n\u001b[1;31mZeroDivisionError\u001b[0m                         Traceback (most recent call last)",
        "\u001b[1;32m/home/fperez/ipython/nbconvert/tests/<ipython-input-6-03412a6702b7>\u001b[0m in \u001b[0;36m<module>\u001b[1;34m()\u001b[0m\n\u001b[0;32m      1\u001b[0m \u001b[1;31m# a traceback\u001b[0m\u001b[1;33m\u001b[0m\u001b[1;33m\u001b[0m\u001b[0m\n\u001b[1;32m----> 2\u001b[1;33m \u001b[1;36m1\u001b[0m\u001b[1;33m/\u001b[0m\u001b[1;36m0\u001b[0m\u001b[1;33m\u001b[0m\u001b[0m\n\u001b[0m",
        "\u001b[1;31mZeroDivisionError\u001b[0m: integer division or modulo by zero"
       ]
      }
     ],
     "prompt_number": 6
     },
     {
      "cell_type": "code",
      "collapsed": false,
      "input": [
       "# This is intended to be a cell with missing prompt number, so don't execute it!"
      ],
      "language": "python",
      "metadata": {},
      "outputs": []
    }
   ]
  }
 ]
}